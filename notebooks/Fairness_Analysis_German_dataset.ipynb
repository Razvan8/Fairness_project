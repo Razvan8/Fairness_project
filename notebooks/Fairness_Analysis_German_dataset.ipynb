{
 "cells": [
  {
   "cell_type": "markdown",
   "metadata": {},
   "source": [
    "# Imports"
   ]
  },
  {
   "cell_type": "code",
   "execution_count": 1,
   "metadata": {},
   "outputs": [],
   "source": [
    "import sys\n",
    "%load_ext autoreload\n",
    "%autoreload 2\n",
    "\n",
    "sys.path.append(\"../libs/\")\n",
    "from data_prep import *\n",
    "from ML_functions import *\n",
    "from bias_injection_and_fairness import *"
   ]
  },
  {
   "cell_type": "markdown",
   "metadata": {},
   "source": [
    "# Load prepared data and models"
   ]
  },
  {
   "cell_type": "code",
   "execution_count": 2,
   "metadata": {},
   "outputs": [],
   "source": [
    "X_train_with_A, X_val_with_A, X_test_with_A, y_train, y_val, y_test, age_train,age_val,age_test,gender_train, gender_val, gender_test,\\\n",
    "ed_train, ed_val, ed_test = load_stored_data(age=True, gender=True, education=None,dataset_name='German_credit', scale=True)\n",
    "\n",
    "# Load the models from the files\n",
    "best_lr_A = joblib.load('../ML_models/German_credit/best_logistic_regression_A_model.pkl')\n",
    "\n",
    "##Compute predictions\n",
    "y_train_pred_lr_A = best_lr_A.predict(X_train_with_A)\n",
    "y_val_pred_lr_A = best_lr_A.predict(X_val_with_A)\n",
    "y_test_pred_lr_A=best_lr_A.predict(X_test_with_A)\n",
    "\n"
   ]
  },
  {
   "cell_type": "markdown",
   "metadata": {},
   "source": [
    "# Use Fairness optimizer and see the results"
   ]
  },
  {
   "cell_type": "code",
   "execution_count": 3,
   "metadata": {},
   "outputs": [
    {
     "name": "stdout",
     "output_type": "stream",
     "text": [
      "--------- SCORES AFTER OPTIMIZING FOR AGE ---------\n",
      "\n",
      "----- accuracy scores -----\n",
      " acc score on dataset used for fariness fitting got from : 0.765 to 0.78\n",
      " acc score on test from : 0.745 to 0.67\n",
      "\n",
      "----- Scores for fariness -----\n",
      "AGE on dataset used for fariness fitting eq op difference went from: 0.151 to 0.002\n",
      "AGE on test eq op difference went from :  0.035 to 0.135\n",
      "GENDER on dataset used for fariness fitting eq op difference went from: 0.1 to 0.058\n",
      "GENDER on test eq op difference went from :  0.033 to 0.046\n",
      "\n",
      "\n",
      "--------- SCORES AFTER OPTIMIZING FOR GENDER ---------\n",
      "\n",
      "----- accuracy scores -----\n",
      " acc score on dataset used for fariness fitting got from : 0.765 to 0.815\n",
      " acc score on test from : 0.745 to 0.685\n",
      "\n",
      "----- Scores for fariness -----\n",
      "GENDER on dataset used for fariness fitting eq op difference went from: 0.1 to 0.046\n",
      "GENDER on test eq op difference went from :  0.033 to 0.019\n",
      "AGE on dataset used for fariness fitting eq op difference went from: 0.151 to 0.105\n",
      "AGE on test eq op difference went from :  0.035 to 0.02\n",
      "\n",
      "\n"
     ]
    }
   ],
   "source": [
    "threshold_optimizer = ThresholdOptimizer(estimator=best_lr_A, constraints=\"true_positive_rate_parity\", objective= \"accuracy_score\", prefit=True)\n",
    "\n",
    "\n",
    "use_fairness_optimizer(threshold_optimizer,X_fit=X_val_with_A, y_fit=y_val_pred_lr_A, X_obs=X_test_with_A, y_obs=y_test_pred_lr_A, \n",
    "                        y_train=y_val, y_val=y_test, sensitive_1_fit= age_val, sensitive_2_fit=gender_val, sensitive_1_obs= age_test, sensitive_2_obs=gender_test,\n",
    "                        name_1=\"AGE\", name_2=\"GENDER\", fitted=False)\n",
    "\n",
    "\n",
    "\n",
    "threshold_optimizer = ThresholdOptimizer(estimator=best_lr_A, constraints=\"true_positive_rate_parity\", objective= \"accuracy_score\", prefit=True)\n",
    "use_fairness_optimizer(threshold_optimizer,X_fit=X_val_with_A, y_fit=y_val_pred_lr_A, X_obs=X_test_with_A, y_obs=y_test_pred_lr_A, \n",
    "                        y_train=y_val, y_val=y_test, sensitive_1_fit= gender_val, sensitive_2_fit=age_val, sensitive_1_obs= gender_test, sensitive_2_obs=age_test,\n",
    "                        name_1=\"GENDER\", name_2=\"AGE\", fitted=False)\n",
    "\n",
    "\n",
    "\n"
   ]
  }
 ],
 "metadata": {
  "kernelspec": {
   "display_name": "Python 3",
   "language": "python",
   "name": "python3"
  },
  "language_info": {
   "codemirror_mode": {
    "name": "ipython",
    "version": 3
   },
   "file_extension": ".py",
   "mimetype": "text/x-python",
   "name": "python",
   "nbconvert_exporter": "python",
   "pygments_lexer": "ipython3",
   "version": "3.11.3"
  }
 },
 "nbformat": 4,
 "nbformat_minor": 2
}
