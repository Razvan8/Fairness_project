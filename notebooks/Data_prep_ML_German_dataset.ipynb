{
 "cells": [
  {
   "cell_type": "markdown",
   "metadata": {},
   "source": [
    "# Imports"
   ]
  },
  {
   "cell_type": "code",
   "execution_count": 1,
   "metadata": {},
   "outputs": [],
   "source": [
    "import sys\n",
    "sys.path.append(\"../libs/\")\n",
    "from data_prep import *\n",
    "from ML_functions import *\n"
   ]
  },
  {
   "cell_type": "markdown",
   "metadata": {},
   "source": [
    "# Load and prepare data for this specific dataset (German Credit Dataset)"
   ]
  },
  {
   "cell_type": "code",
   "execution_count": 2,
   "metadata": {},
   "outputs": [
    {
     "name": "stdout",
     "output_type": "stream",
     "text": [
      "Data loaded sucessfully\n"
     ]
    }
   ],
   "source": [
    "#X,y=load_German_dataset() #this requires internet connection to load the dataset #just to show how I loaded it initially\n",
    "\n",
    "X,y=load_German_dataset_offline()\n",
    "\n",
    "##Tests # One test to group people after age. Different groups offer similar results\n",
    "def test1(value):\n",
    "    if value>=35:\n",
    "        return 1\n",
    "    else:\n",
    "        return 0\n",
    "\n",
    "\n",
    "##Replace with binary for age and make ycolumn: 0 or 1\n",
    "X=replace_values_with_binary(X,\"Attribute9\",[\"A91\",\"A93\",\"A94\"])# transform Attribute9 it into gender column (\"A91\",\"A93\",\"A94\" all combined form gender)\n",
    "y=replace_values_with_binary(y,y.columns[0],[1])# transform y to col with 0/1 values with 0:bad  1:good \n",
    "\n",
    "X.rename(columns={'Attribute9': 'Gender'}, inplace=True) #rename gender columns as Gender\n",
    "X=apply_function_to_column(df=X,column_name=\"Attribute13\",test_function=test1, new_name=\"Age_group\") # group age in 2 binary values 0 and 1\n",
    " \n",
    "num_features=[\"Attribute2\", \"Attribute5\", \"Attribute8\", \"Attribute11\", \"Attribute13\", \"Attribute16\", \"Attribute18\"] #numerical features\n",
    "cat_features=[col_name for col_name in X.columns if col_name not in num_features] # categrorical features\n",
    "X = pd.get_dummies(X, columns = cat_features, drop_first=True)\n",
    "X.rename(columns={'Attribute9': 'Gender'}, inplace=True) #rename gender columns as Gender\n",
    "\n",
    "\n",
    "X_train, X_test, y_train, y_test = train_test_split(X, y,test_size = 0.4, random_state=12)  ## train test split 0.6-0.4\n",
    "\n",
    "X_val,X_test,y_val,y_test=train_test_split(X_test,y_test, test_size=0.5, random_state=12) ##this makes 0.2 for both val and test\n",
    "\n",
    "\n",
    "\n",
    "## Save sensitive attributes\n",
    "\n",
    "gender_train=X_train[\"Gender_1\"]\n",
    "age_train=X_train[\"Age_group_1\"]\n",
    "\n",
    "gender_test=X_test[\"Gender_1\"]\n",
    "age_test=X_test[\"Age_group_1\"]\n",
    "\n",
    "gender_val=X_val[\"Gender_1\"]\n",
    "age_val=X_val[\"Age_group_1\"]\n",
    "\n",
    "\n",
    "\n",
    "\n",
    "\n",
    "#Drop redundant columns - Age group is redundant information since we already have the age column\n",
    "\n",
    "X_train_with_A=X_train.copy() #X with sensitive_attributes\n",
    "X_train_with_A.drop(\"Age_group_1\" , axis=1, inplace=True)\n",
    "\n",
    "\n",
    "X_test_with_A=X_test.copy() #X with sensitive_attributes\n",
    "X_test_with_A.drop(\"Age_group_1\" , axis=1, inplace=True)\n",
    "\n",
    "\n",
    "X_val_with_A=X_val.copy() #X with sensitive_attributes\n",
    "X_val_with_A.drop(\"Age_group_1\" , axis=1, inplace=True)\n"
   ]
  },
  {
   "cell_type": "markdown",
   "metadata": {},
   "source": [
    "# Save data in Dataframes folder for future use"
   ]
  },
  {
   "cell_type": "code",
   "execution_count": 3,
   "metadata": {},
   "outputs": [
    {
     "name": "stdout",
     "output_type": "stream",
     "text": [
      "Dataframes saved in their directory from 'Dataframes' directory.\n"
     ]
    }
   ],
   "source": [
    "store_data(dataset_name='German_credit',X_train_with_A=X_train_with_A,X_val_with_A=X_val_with_A, \n",
    "            X_test_with_A = X_test_with_A, y_train =  y_train,y_val = y_val, y_test = y_test,\n",
    "            age=[age_train, age_val, age_test], gender= [gender_train, gender_val, gender_test], education=None)\n"
   ]
  },
  {
   "cell_type": "markdown",
   "metadata": {},
   "source": [
    "# Brief analysis (for this specific dataset)"
   ]
  },
  {
   "cell_type": "markdown",
   "metadata": {},
   "source": [
    "### Age groups distribution and outcome distribution"
   ]
  },
  {
   "cell_type": "code",
   "execution_count": 4,
   "metadata": {},
   "outputs": [
    {
     "name": "stdout",
     "output_type": "stream",
     "text": [
      "     class\n",
      "0        1\n",
      "1        0\n",
      "2        1\n",
      "3        1\n",
      "4        0\n",
      "..     ...\n",
      "995      1\n",
      "996      1\n",
      "997      1\n",
      "998      0\n",
      "999      1\n",
      "\n",
      "[1000 rows x 1 columns]\n"
     ]
    },
    {
     "data": {
      "image/png": "[encoded data removed]",
      "text/plain": [
       "<Figure size 640x480 with 1 Axes>"
      ]
     },
     "metadata": {},
     "output_type": "display_data"
    },
    {
     "data": {
      "image/png": "[encoded data removed]",
      "text/plain": [
       "<Figure size 640x480 with 1 Axes>"
      ]
     },
     "metadata": {},
     "output_type": "display_data"
    }
   ],
   "source": [
    "y.value_counts().plot.bar()\n",
    "plt.xticks([0,1],['1-good', '0-bad'])\n",
    "plt.xticks(rotation=0)\n",
    "print(y)\n",
    "plt.title(\"Y distribution\")\n",
    "plt.show()\n",
    "\n",
    "\n",
    "\n",
    "\n",
    "\n",
    "# Create an array to represent the index (0 and 1)\n",
    "index = np.array([0, 1])\n",
    "\n",
    "#Age groups distribution\n",
    "values = [X.shape[0]- X[\"Age_group_1\"].sum(),X[\"Age_group_1\"].sum()]\n",
    "\n",
    "# Create the bar plot\n",
    "plt.bar(index, values)\n",
    "\n",
    "# Set the x-tick labels for the index\n",
    "plt.xticks(index, ['0', '1'])\n",
    "\n",
    "plt.title(\"Age groups distribution\")\n",
    "plt.show()\n"
   ]
  },
  {
   "cell_type": "markdown",
   "metadata": {},
   "source": [
    "# Chose the best ML model\n",
    "I tried more models but logisit regression offered decent results and is also a fundamental model that can be interpreted easily.\n",
    "In the data description from statlog, logistic regression is one of the best models too in terms of accuracy. \n",
    "In consequence, I will comment the part of training other models, but still let that part here commented just to show my reasoning during the implementation."
   ]
  },
  {
   "cell_type": "code",
   "execution_count": 5,
   "metadata": {},
   "outputs": [
    {
     "name": "stdout",
     "output_type": "stream",
     "text": [
      "Best Model Hyperparameters: {'random_state': 123, 'C': 1, 'penalty': 'l2'}\n",
      "Validation Accuracy: 0.705\n",
      "OBS : I did not optimizer over random state. I just selected to be only 123 in the grid search to directly save the model with random state 123 for reproducibility.\n"
     ]
    }
   ],
   "source": [
    "## I tried more models but logisit regression offered decent results and is also a fundamental model that can be interpreted easily.\n",
    "## In the data description from statlog logistic regression is one of the best models too in terms of accuracy. \n",
    "\n",
    "# In consequence I will comment the part of training other models, but stil let that part here commented just to show my reasoning during the implementation.\n",
    "\n",
    "\n",
    "####SCALE\n",
    "X_train_with_A, X_val_with_A, X_test_with_A=scale_dataframes(\n",
    "    [X_train_with_A, X_val_with_A, X_test_with_A])  ###scale all dfs ##Take care scale keeps 0,1 true\n",
    "\n",
    "\n",
    "############# find best model\n",
    "\n",
    "#param_grid_rf = {\n",
    "    #'n_estimators': [10,50, 100],\n",
    "    #'max_depth': [5,10],\n",
    "    #'min_samples_leaf': [ 8,16]\n",
    "#}\n",
    "\n",
    "\n",
    "#param_grid_svc = {\n",
    "    #'C': [0.1, 1, 10],\n",
    "    #'kernel': ['linear']\n",
    "#}\n",
    "\n",
    "#param_grid_knn = {\n",
    "    #'n_neighbors': [3,5, 10, 20]\n",
    "#}\n",
    "\n",
    "\n",
    "param_grid_lr = {\n",
    "    'random_state' : [123],\n",
    "    'C': [ 0.001,0.01,0.1,1,5,10,20,50],\n",
    "    'penalty': ['l2',\n",
    "    ]\n",
    "}  # I fixed random state for reproducible results. I do not optimize over it !!!!\n",
    "\n",
    "\n",
    "#model_rf=RandomForestClassifier()\n",
    "#model_knn = KNeighborsClassifier()\n",
    "model_lr = LogisticRegression()  \n",
    "\n",
    "\n",
    "#best_rf_A = find_best_model(model_rf, param_grid_rf, X_train_with_A, y_train.values.ravel(),  X_val_with_A, y_val.values.ravel())\n",
    "#best_knn_A = find_best_model(model_knn, param_grid_knn, X_train_with_A, y_train.values.ravel(), X_val_with_A, y_val.values.ravel() )\n",
    "best_lr_A = find_best_model(model_lr, param_grid_lr, X_train_with_A, y_train.values.ravel(),  X_val_with_A, y_val.values.ravel(), verbose= True)\n",
    "print(\"OBS : I did not optimizer over random state. I just selected to be only 123 in the grid search to directly save the model with random state 123 for reproducibility.\")\n",
    "\n",
    "\n"
   ]
  },
  {
   "cell_type": "markdown",
   "metadata": {},
   "source": [
    "# Save the models for future use "
   ]
  },
  {
   "cell_type": "code",
   "execution_count": 6,
   "metadata": {},
   "outputs": [
    {
     "data": {
      "text/plain": [
       "['..\\\\ML_models\\\\German_credit\\\\best_logistic_regression_A_model.pkl']"
      ]
     },
     "execution_count": 6,
     "metadata": {},
     "output_type": "execute_result"
    }
   ],
   "source": [
    "dataset_name=\"German_credit\"\n",
    "# Define the directory path for saving models\n",
    "models_directory = os.path.join( '..', 'ML_models', dataset_name)  # '..' moves one directory up\n",
    "# Create the 'models' directory if it doesn't exist\n",
    "if not os.path.exists(models_directory):\n",
    "    os.makedirs(models_directory)\n",
    "\n",
    "# Save the best models to separate files\n",
    "\n",
    "#joblib.dump(best_rf_A, os.path.join(models_directory, 'best_random_forest_A_model.pkl'))\n",
    "#joblib.dump(best_knn_A, os.path.join(models_directory, 'best_knn_A_model.pkl'))\n",
    "joblib.dump(best_lr_A, os.path.join(models_directory, 'best_logistic_regression_A_model.pkl'))\n"
   ]
  }
 ],
 "metadata": {
  "kernelspec": {
   "display_name": "Python 3",
   "language": "python",
   "name": "python3"
  },
  "language_info": {
   "codemirror_mode": {
    "name": "ipython",
    "version": 3
   },
   "file_extension": ".py",
   "mimetype": "text/x-python",
   "name": "python",
   "nbconvert_exporter": "python",
   "pygments_lexer": "ipython3",
   "version": "3.11.3"
  }
 },
 "nbformat": 4,
 "nbformat_minor": 2
}
