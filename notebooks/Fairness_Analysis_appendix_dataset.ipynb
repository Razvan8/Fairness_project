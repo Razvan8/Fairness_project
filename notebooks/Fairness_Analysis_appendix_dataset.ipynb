{
 "cells": [
  {
   "cell_type": "code",
   "execution_count": 1,
   "metadata": {},
   "outputs": [],
   "source": [
    "import sys\n",
    "sys.path.append(\"../libs/\")\n",
    "from data_prep import *\n",
    "from ML_functions import *\n",
    "from bias_injection_and_fairness import *"
   ]
  },
  {
   "cell_type": "markdown",
   "metadata": {},
   "source": [
    "# Load prepared data and models"
   ]
  },
  {
   "cell_type": "code",
   "execution_count": 2,
   "metadata": {},
   "outputs": [],
   "source": [
    "\n",
    "\n",
    "X_train_with_A, X_val_with_A, X_test_with_A, y_train, y_val, y_test, age_train,age_val,age_test,gender_train, gender_val, gender_test, education_train,\\\n",
    "education_val, education_test = load_stored_data(age=True, gender=True, education=True,dataset_name='Appendix_dataset', scale=True)\n",
    "\n",
    "path_models=\"../ML_models/Appendix_dataset\"\n",
    "\n",
    "# Load the models from the files\n",
    "best_lr_A = joblib.load(f'{path_models}/best_logistic_regression_A_model.pkl')\n",
    "# Now you have the loaded models in the respective variables\n",
    "\n",
    "##Compute predictions\n",
    "y_train_pred_lr_A = best_lr_A.predict(X_train_with_A)\n",
    "y_val_pred_lr_A = best_lr_A.predict(X_val_with_A)\n",
    "y_test_pred_lr_A=best_lr_A.predict(X_test_with_A)\n",
    "\n"
   ]
  },
  {
   "cell_type": "markdown",
   "metadata": {},
   "source": [
    "# Use fairness optimizer - I kept this part just to show that the dataset is already fair. I will not use this dataset fot further analysis. I will use the German credit dataset for further analysis."
   ]
  },
  {
   "cell_type": "code",
   "execution_count": 3,
   "metadata": {},
   "outputs": [
    {
     "name": "stdout",
     "output_type": "stream",
     "text": [
      "--------- SCORES AFTER OPTIMIZING FOR AGE ---------\n",
      "\n",
      "----- accuracy scores -----\n",
      " acc score on dataset used for fariness fitting got from : 0.82 to 0.822\n",
      " acc score on test from : 0.818 to 0.815\n",
      "\n",
      "----- Scores for fariness -----\n",
      "AGE on dataset used for fariness fitting eq op difference went from: 0.033 to 0.002\n",
      "AGE on test eq op difference went from :  0.004 to 0.053\n",
      "GENDER on dataset used for fariness fitting eq op difference went from: 0.012 to 0.022\n",
      "GENDER on test eq op difference went from :  0.016 to 0.021\n",
      "\n",
      "\n",
      "--------- SCORES AFTER OPTIMIZING FOR EDUCATION ---------\n",
      "\n",
      "----- accuracy scores -----\n",
      " acc score on dataset used for fariness fitting got from : 0.82 to 0.824\n",
      " acc score on test from : 0.818 to 0.815\n",
      "\n",
      "----- Scores for fariness -----\n",
      "EDUCATION on dataset used for fariness fitting eq op difference went from: 0.066 to 0.004\n",
      "EDUCATION on test eq op difference went from :  0.126 to 0.055\n",
      "GENDER on dataset used for fariness fitting eq op difference went from: 0.012 to 0.007\n",
      "GENDER on test eq op difference went from :  0.016 to 0.016\n",
      "\n",
      "\n",
      "--------- SCORES AFTER OPTIMIZING FOR Education ---------\n",
      "\n",
      "----- accuracy scores -----\n",
      " acc score on dataset used for fariness fitting got from : 0.82 to 0.824\n",
      " acc score on test from : 0.818 to 0.815\n",
      "\n",
      "----- Scores for fariness -----\n",
      "Education on dataset used for fariness fitting eq op difference went from: 0.066 to 0.004\n",
      "Education on test eq op difference went from :  0.126 to 0.055\n",
      "AGE on dataset used for fariness fitting eq op difference went from: 0.033 to 0.044\n",
      "AGE on test eq op difference went from :  0.004 to 0.003\n",
      "\n",
      "\n"
     ]
    }
   ],
   "source": [
    "threshold_optimizer = ThresholdOptimizer(estimator=best_lr_A, constraints=\"true_positive_rate_parity\", objective= \"accuracy_score\", prefit=True)\n",
    "\n",
    "#fairness - age-gender\n",
    "use_fairness_optimizer(threshold_optimizer,X_fit=X_val_with_A, y_fit=y_val_pred_lr_A, X_obs=X_test_with_A, y_obs=y_test_pred_lr_A, \n",
    "                        y_train=y_val, y_val=y_test, sensitive_1_fit= age_val, sensitive_2_fit=gender_val, sensitive_1_obs= age_test, sensitive_2_obs=gender_test,\n",
    "                        name_1=\"AGE\", name_2=\"GENDER\", fitted=False)\n",
    "\n",
    "            \n",
    "#fairness - education-gender\n",
    "use_fairness_optimizer(threshold_optimizer,X_fit=X_val_with_A, y_fit=y_val_pred_lr_A, X_obs=X_test_with_A, y_obs=y_test_pred_lr_A, \n",
    "                        y_train=y_val, y_val=y_test, sensitive_1_fit= education_val, sensitive_2_fit=gender_val, sensitive_1_obs= education_test, sensitive_2_obs=gender_test,\n",
    "                        name_1=\"EDUCATION\", name_2=\"GENDER\", fitted=False)\n",
    "\n",
    "\n",
    "#fairness - education-age\n",
    "threshold_optimizer = ThresholdOptimizer(estimator=best_lr_A, constraints=\"true_positive_rate_parity\", objective= \"accuracy_score\", prefit=True)\n",
    "use_fairness_optimizer(threshold_optimizer,X_fit=X_val_with_A, y_fit=y_val_pred_lr_A, X_obs=X_test_with_A, y_obs=y_test_pred_lr_A, \n",
    "                        y_train=y_val, y_val=y_test, sensitive_1_fit= education_val, sensitive_2_fit=age_val, sensitive_1_obs= education_test, sensitive_2_obs=age_test,\n",
    "                        name_1=\"Education\", name_2=\"AGE\", fitted=False)\n",
    "\n",
    "\n",
    "\n"
   ]
  },
  {
   "cell_type": "markdown",
   "metadata": {},
   "source": [
    "# Conclusion : This dataset is already fair. I will not use this dataset for further analysis, but the German credit dataset."
   ]
  }
 ],
 "metadata": {
  "kernelspec": {
   "display_name": "Python 3",
   "language": "python",
   "name": "python3"
  },
  "language_info": {
   "codemirror_mode": {
    "name": "ipython",
    "version": 3
   },
   "file_extension": ".py",
   "mimetype": "text/x-python",
   "name": "python",
   "nbconvert_exporter": "python",
   "pygments_lexer": "ipython3",
   "version": "3.11.3"
  }
 },
 "nbformat": 4,
 "nbformat_minor": 2
}
