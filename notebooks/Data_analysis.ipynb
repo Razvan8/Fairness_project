{
 "cells": [
  {
   "cell_type": "code",
   "execution_count": 1,
   "metadata": {},
   "outputs": [],
   "source": [
    "import sys\n",
    "%load_ext autoreload\n",
    "%autoreload 2\n",
    "\n",
    "sys.path.append(\"../libs/\")\n",
    "from data_prep import *\n",
    "\n"
   ]
  },
  {
   "cell_type": "markdown",
   "metadata": {},
   "source": [
    "# Load and prepare data"
   ]
  },
  {
   "cell_type": "code",
   "execution_count": 2,
   "metadata": {},
   "outputs": [
    {
     "name": "stdout",
     "output_type": "stream",
     "text": [
      "Data loaded successfully\n"
     ]
    }
   ],
   "source": [
    "X,y=load_data()\n",
    "\n",
    "\n",
    "##Tests \n",
    "def test1(value):\n",
    "    if value>=35:\n",
    "        return 1\n",
    "    else:\n",
    "        return 0\n",
    "def test2(value):\n",
    "    if value <30 or value>60:\n",
    "        return 1\n",
    "    else:\n",
    "        return 0\n",
    "###\n",
    "\n",
    "##Replace with binary for age and make ycolumn: 0 or 1\n",
    "X=replace_values_with_binary(X,\"Attribute9\",[\"A91\",\"A93\",\"A94\"])# transform Attribute9 it into gender column\n",
    "y=replace_values_with_binary(y,y.columns[0],[2])# transform y to col with 0/1 values\n",
    "X=apply_function_to_column(df=X,column_name=\"Attribute13\",test_function=test1, new_name=\"Age_group\")\n",
    "\n",
    "num_features=[\"Attribute2\", \"Attribute5\", \"Attribute8\", \"Attribute11\", \"Attribute13\", \"Attribute16\", \"Attribute18\"]\n",
    "cat_features=[col_name for col_name in X.columns if col_name not in num_features]\n",
    "X = pd.get_dummies(X, columns = cat_features, drop_first=True)\n",
    "\n",
    "X_train, X_test, y_train, y_test = train_test_split(X, y,test_size = 0.3, random_state=123)\n",
    "\n",
    "X_val,X_test,y_val,y_test=train_test_split(X_test,y_test, test_size=0.5, random_state=123) ##this make 0.15 for both val and test\n",
    "\n",
    "## Save sensitive attributes\n",
    "\n",
    "gender_train=X_train[\"Attribute9_1\"]\n",
    "age_train=X_train[\"Age_group_1\"]\n",
    "\n",
    "gender_test=X_test[\"Attribute9_1\"]\n",
    "age_test=X_test[\"Age_group_1\"]\n",
    "\n",
    "gender_val=X_val[\"Attribute9_1\"]\n",
    "age_val=X_val[\"Age_group_1\"]\n",
    "\n",
    "\n",
    "\n",
    "\n",
    "\n",
    "\n",
    "#Drop columns for without attribute and redundant ones\n",
    "\n",
    "X_train_with_A=X_train.copy() #X with sensitive_attributes\n",
    "X_train_with_A.drop(\"Age_group_1\" , axis=1, inplace=True)\n",
    "X_train_without_A=X_train.drop([\"Age_group_1\",\"Attribute9_1\" ], axis=1)\n",
    "\n",
    "X_test_with_A=X_test.copy() #X with sensitive_attributes\n",
    "X_test_with_A.drop(\"Age_group_1\" , axis=1, inplace=True)\n",
    "X_test_without_A=X_test.drop([\"Age_group_1\",\"Attribute9_1\" ], axis=1)\n",
    "\n",
    "X_val_with_A=X_test.copy() #X with sensitive_attributes\n",
    "X_val_with_A.drop(\"Age_group_1\" , axis=1, inplace=True)\n",
    "X_val_without_A=X_test.drop([\"Age_group_1\",\"Attribute9_1\" ], axis=1)\n",
    "\n",
    "\n",
    "\n",
    "\n",
    "\n",
    "\n",
    "\n",
    "\n",
    "\n",
    "\n",
    "\n",
    "\n",
    "\n"
   ]
  },
  {
   "cell_type": "markdown",
   "metadata": {},
   "source": [
    "Brief analysis"
   ]
  },
  {
   "cell_type": "code",
   "execution_count": 3,
   "metadata": {},
   "outputs": [
    {
     "name": "stdout",
     "output_type": "stream",
     "text": [
      "Index(['Attribute2', 'Attribute5', 'Attribute8', 'Attribute11', 'Attribute13',\n",
      "       'Attribute16', 'Attribute18', 'Attribute1_A12', 'Attribute1_A13',\n",
      "       'Attribute1_A14', 'Attribute3_A31', 'Attribute3_A32', 'Attribute3_A33',\n",
      "       'Attribute3_A34', 'Attribute4_A41', 'Attribute4_A410', 'Attribute4_A42',\n",
      "       'Attribute4_A43', 'Attribute4_A44', 'Attribute4_A45', 'Attribute4_A46',\n",
      "       'Attribute4_A48', 'Attribute4_A49', 'Attribute6_A62', 'Attribute6_A63',\n",
      "       'Attribute6_A64', 'Attribute6_A65', 'Attribute7_A72', 'Attribute7_A73',\n",
      "       'Attribute7_A74', 'Attribute7_A75', 'Attribute9_1', 'Attribute10_A102',\n",
      "       'Attribute10_A103', 'Attribute12_A122', 'Attribute12_A123',\n",
      "       'Attribute12_A124', 'Attribute14_A142', 'Attribute14_A143',\n",
      "       'Attribute15_A152', 'Attribute15_A153', 'Attribute17_A172',\n",
      "       'Attribute17_A173', 'Attribute17_A174', 'Attribute19_A192',\n",
      "       'Attribute20_A202', 'Age_group_1'],\n",
      "      dtype='object')\n",
      "     class\n",
      "0        0\n",
      "1        1\n",
      "2        0\n",
      "3        0\n",
      "4        1\n",
      "..     ...\n",
      "995      0\n",
      "996      0\n",
      "997      0\n",
      "998      1\n",
      "999      0\n",
      "\n",
      "[1000 rows x 1 columns]\n"
     ]
    },
    {
     "data": {
      "image/png": "[encoded data removed]",
      "text/plain": [
       "<Figure size 640x480 with 1 Axes>"
      ]
     },
     "metadata": {},
     "output_type": "display_data"
    },
    {
     "data": {
      "image/png": "[encoded data removed]",
      "text/plain": [
       "<Figure size 640x480 with 1 Axes>"
      ]
     },
     "metadata": {},
     "output_type": "display_data"
    }
   ],
   "source": [
    "print(X.columns)\n",
    "y.value_counts().plot.bar()\n",
    "print(y)\n",
    "plt.title(\"Y distribution\")\n",
    "plt.show()\n",
    "\n",
    "\n",
    "\n",
    "\n",
    "\n",
    "# Create an array to represent the index (0 and 1)\n",
    "index = np.array([0, 1])\n",
    "\n",
    "# Create a list of the numbers\n",
    "values = [X.shape[0]- X[\"Age_group_1\"].sum(),X[\"Age_group_1\"].sum()]\n",
    "\n",
    "# Create the bar plot\n",
    "plt.bar(index, values)\n",
    "\n",
    "# Set the x-tick labels for the index\n",
    "plt.xticks(index, ['0', '1'])\n",
    "\n",
    "plt.title(\"Age groups distribution\")\n",
    "plt.show()\n"
   ]
  },
  {
   "cell_type": "markdown",
   "metadata": {},
   "source": [
    "# Prediction "
   ]
  },
  {
   "cell_type": "code",
   "execution_count": 4,
   "metadata": {},
   "outputs": [
    {
     "name": "stdout",
     "output_type": "stream",
     "text": [
      "Accuracy for best grid search RandomForestClassifier() is : 0.7442857142857143\n",
      "Accuracy for best grid search KNeighborsClassifier() is : 0.7142857142857142\n"
     ]
    }
   ],
   "source": [
    "#########MODEL \n",
    "\n",
    "\n",
    "\n",
    "param_grid_rf = {\n",
    "    'n_estimators': [10,50, 100],\n",
    "    'max_depth': [10, 20,30,50],\n",
    "    'min_samples_leaf': [2, 4,8]\n",
    "}\n",
    "\n",
    "\n",
    "#param_grid_svc = {\n",
    "    #'C': [0.1, 1, 10],\n",
    "    #'kernel': ['linear']\n",
    "#}\n",
    "\n",
    "param_grid_knn = {\n",
    "    'n_neighbors': [3,5, 10, 20]\n",
    "}\n",
    "\n",
    "\n",
    "model_rf=RandomForestClassifier()\n",
    "#model_svc = SVC()\n",
    "model_knn = KNeighborsClassifier()\n",
    "\n",
    "\n",
    "best_rf = find_best_model(model_rf, param_grid_rf, X_train_without_A, y_train.values.ravel())[0]\n",
    "#best_svc = find_best_model(model_svc, param_grid_svc, X_train_without_A, y_train.values.ravel())[0]\n",
    "best_knn = find_best_model(model_knn, param_grid_knn, X_train_without_A, y_train.values.ravel())[0]\n",
    "\n",
    "\n",
    "\n",
    "\n",
    "# Define the parameter grids for each model\n",
    "\n",
    "\n",
    "#param_grid_svc = {\n",
    "    #'C': [0.1, 1],\n",
    "    #'kernel': ['linear']\n",
    "#}\n",
    "\n",
    "param_grid_knn = {\n",
    "    'n_neighbors': [3,5, 10,20]\n",
    "}\n",
    "\n",
    "\n",
    "\n",
    "\n",
    "\n",
    "\n",
    "\n",
    "\n",
    "\n"
   ]
  },
  {
   "cell_type": "code",
   "execution_count": 7,
   "metadata": {},
   "outputs": [
    {
     "name": "stdout",
     "output_type": "stream",
     "text": [
      " train gender eq op diff : 0.09931359931359929\n",
      "train age eq op diff : 0.28070750081886664\n",
      "val gender eq op diff : 0.11428571428571428\n",
      "val age eq op diff : 0.0617816091954023\n",
      "train gender eq odds diff : 0.09931359931359929\n",
      "train age eq odds diff : 0.28070750081886664\n",
      "val gender eq odds diff : 0.11428571428571428\n",
      "val age eq odds diff : 0.0617816091954023\n"
     ]
    }
   ],
   "source": [
    "from fairlearn.metrics import equalized_odds_difference as eq_odds_dif\n",
    "\n",
    "\n",
    "print(f\" train gender eq op diff : {eq_op_dif(y_train,best_rf.predict(X_train_without_A), sensitive_attribute=gender_train)}\")\n",
    "print(f\"train age eq op diff : {eq_op_dif(y_train,best_rf.predict(X_train_without_A), sensitive_attribute=age_train)}\")\n",
    "\n",
    "print(f\"val gender eq op diff : {eq_op_dif(y_val,best_rf.predict(X_val_without_A), sensitive_attribute=gender_val)}\")\n",
    "print(f\"val age eq op diff : {eq_op_dif(y_val,best_rf.predict(X_val_without_A), sensitive_attribute=age_val)}\")\n",
    "\n",
    "print(f\"train gender eq odds diff : {eq_odds_dif(y_train,best_rf.predict(X_train_without_A), sensitive_features=gender_train)}\")\n",
    "print(f\"train age eq odds diff : {eq_odds_dif(y_train,best_rf.predict(X_train_without_A), sensitive_features=age_train)}\")\n",
    "\n",
    "print(f\"val gender eq odds diff : {eq_odds_dif(y_val,best_rf.predict(X_val_without_A), sensitive_features=gender_val)}\")\n",
    "print(f\"val age eq odds diff : {eq_odds_dif(y_val,best_rf.predict(X_val_without_A), sensitive_features=age_val)}\")"
   ]
  }
 ],
 "metadata": {
  "kernelspec": {
   "display_name": "Python 3",
   "language": "python",
   "name": "python3"
  },
  "language_info": {
   "codemirror_mode": {
    "name": "ipython",
    "version": 3
   },
   "file_extension": ".py",
   "mimetype": "text/x-python",
   "name": "python",
   "nbconvert_exporter": "python",
   "pygments_lexer": "ipython3",
   "version": "3.11.3"
  }
 },
 "nbformat": 4,
 "nbformat_minor": 2
}
