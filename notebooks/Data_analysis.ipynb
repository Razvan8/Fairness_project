{
 "cells": [
  {
   "cell_type": "code",
   "execution_count": 15,
   "metadata": {},
   "outputs": [
    {
     "name": "stdout",
     "output_type": "stream",
     "text": [
      "The autoreload extension is already loaded. To reload it, use:\n",
      "  %reload_ext autoreload\n"
     ]
    }
   ],
   "source": [
    "import sys\n",
    "%load_ext autoreload\n",
    "%autoreload 2\n",
    "\n",
    "sys.path.append(\"../libs/\")\n",
    "from data_prep import *\n",
    "\n"
   ]
  },
  {
   "cell_type": "markdown",
   "metadata": {},
   "source": [
    "# Load and prepare data for this specific dataset (German Credit Dataset)"
   ]
  },
  {
   "cell_type": "code",
   "execution_count": 2,
   "metadata": {},
   "outputs": [
    {
     "name": "stdout",
     "output_type": "stream",
     "text": [
      "Data loaded successfully\n",
      "     class\n",
      "0        1\n",
      "1        0\n",
      "2        1\n",
      "3        1\n",
      "4        0\n",
      "..     ...\n",
      "995      1\n",
      "996      1\n",
      "997      1\n",
      "998      0\n",
      "999      1\n",
      "\n",
      "[1000 rows x 1 columns]\n"
     ]
    }
   ],
   "source": [
    "X,y=load_data()\n",
    "\n",
    "\n",
    "##Tests \n",
    "def test1(value):\n",
    "    if value>=35:\n",
    "        return 1\n",
    "    else:\n",
    "        return 0\n",
    "def test2(value):\n",
    "    if value <30 or value>60:\n",
    "        return 1\n",
    "    else:\n",
    "        return 0\n",
    "###\n",
    "\n",
    "##Replace with binary for age and make ycolumn: 0 or 1\n",
    "X=replace_values_with_binary(X,\"Attribute9\",[\"A91\",\"A93\",\"A94\"])# transform Attribute9 it into gender column\n",
    "\n",
    "y=replace_values_with_binary(y,y.columns[0],[1])# transform y to col with 0/1 values with 0:bad  1:good \n",
    "print(y)\n",
    "\n",
    "X=apply_function_to_column(df=X,column_name=\"Attribute13\",test_function=test1, new_name=\"Age_group\")\n",
    "\n",
    "num_features=[\"Attribute2\", \"Attribute5\", \"Attribute8\", \"Attribute11\", \"Attribute13\", \"Attribute16\", \"Attribute18\"]\n",
    "cat_features=[col_name for col_name in X.columns if col_name not in num_features]\n",
    "X = pd.get_dummies(X, columns = cat_features, drop_first=True)\n",
    "\n",
    "\n",
    "\n",
    "X_train, X_test, y_train, y_test = train_test_split(X, y,test_size = 0.4, random_state=123)\n",
    "\n",
    "X_val,X_test,y_val,y_test=train_test_split(X_test,y_test, test_size=0.5, random_state=123) ##this make 0.2 for both val and test\n",
    "\n",
    "\n",
    "\n",
    "## Save sensitive attributes\n",
    "\n",
    "gender_train=X_train[\"Attribute9_1\"]\n",
    "age_train=X_train[\"Age_group_1\"]\n",
    "\n",
    "gender_test=X_test[\"Attribute9_1\"]\n",
    "age_test=X_test[\"Age_group_1\"]\n",
    "\n",
    "gender_val=X_val[\"Attribute9_1\"]\n",
    "age_val=X_val[\"Age_group_1\"]\n",
    "\n",
    "\n",
    "\n",
    "\n",
    "\n",
    "\n",
    "\n",
    "\n",
    "#Drop columns for without attribute and redundant ones\n",
    "\n",
    "X_train_with_A=X_train.copy() #X with sensitive_attributes\n",
    "X_train_with_A.drop(\"Age_group_1\" , axis=1, inplace=True)\n",
    "X_train_without_A=X_train.drop([\"Age_group_1\",\"Attribute9_1\" ], axis=1)\n",
    "\n",
    "X_test_with_A=X_test.copy() #X with sensitive_attributes\n",
    "X_test_with_A.drop(\"Age_group_1\" , axis=1, inplace=True)\n",
    "X_test_without_A=X_test.drop([\"Age_group_1\",\"Attribute9_1\" ], axis=1)\n",
    "\n",
    "X_val_with_A=X_val.copy() #X with sensitive_attributes\n",
    "X_val_with_A.drop(\"Age_group_1\" , axis=1, inplace=True)\n",
    "X_val_without_A=X_val.drop([\"Age_group_1\",\"Attribute9_1\" ], axis=1)\n",
    "\n",
    "\n",
    "\n",
    "\n",
    "\n",
    "\n",
    "\n",
    "\n",
    "\n",
    "\n",
    "\n",
    "\n",
    "\n"
   ]
  },
  {
   "cell_type": "markdown",
   "metadata": {},
   "source": [
    "# Save data in dataframes folder for Dataframes folder for future use"
   ]
  },
  {
   "cell_type": "code",
   "execution_count": 3,
   "metadata": {},
   "outputs": [
    {
     "name": "stdout",
     "output_type": "stream",
     "text": [
      "Dataframes saved in their directory from 'Dataframes' directory.\n"
     ]
    }
   ],
   "source": [
    "store_data(dataset_name='German_credit',X_train_with_A=X_train_with_A, X_train_without_A=X_train_without_A,X_val_with_A=X_val_with_A, \n",
    "            X_val_without_A = X_val_without_A, X_test_with_A = X_test_with_A, X_test_without_A= X_test_without_A, y_train =  y_train,\n",
    "            y_val = y_val, y_test = y_test, age=[age_train, age_val, age_test], gender= [gender_train, gender_val, gender_test], education=None)\n"
   ]
  },
  {
   "cell_type": "markdown",
   "metadata": {},
   "source": [
    "# Brief analysis (for this specific dataset)"
   ]
  },
  {
   "cell_type": "code",
   "execution_count": 4,
   "metadata": {},
   "outputs": [
    {
     "name": "stdout",
     "output_type": "stream",
     "text": [
      "Index(['Attribute2', 'Attribute5', 'Attribute8', 'Attribute11', 'Attribute13',\n",
      "       'Attribute16', 'Attribute18', 'Attribute1_A12', 'Attribute1_A13',\n",
      "       'Attribute1_A14', 'Attribute3_A31', 'Attribute3_A32', 'Attribute3_A33',\n",
      "       'Attribute3_A34', 'Attribute4_A41', 'Attribute4_A410', 'Attribute4_A42',\n",
      "       'Attribute4_A43', 'Attribute4_A44', 'Attribute4_A45', 'Attribute4_A46',\n",
      "       'Attribute4_A48', 'Attribute4_A49', 'Attribute6_A62', 'Attribute6_A63',\n",
      "       'Attribute6_A64', 'Attribute6_A65', 'Attribute7_A72', 'Attribute7_A73',\n",
      "       'Attribute7_A74', 'Attribute7_A75', 'Attribute9_1', 'Attribute10_A102',\n",
      "       'Attribute10_A103', 'Attribute12_A122', 'Attribute12_A123',\n",
      "       'Attribute12_A124', 'Attribute14_A142', 'Attribute14_A143',\n",
      "       'Attribute15_A152', 'Attribute15_A153', 'Attribute17_A172',\n",
      "       'Attribute17_A173', 'Attribute17_A174', 'Attribute19_A192',\n",
      "       'Attribute20_A202', 'Age_group_1'],\n",
      "      dtype='object')\n",
      "     class\n",
      "0        1\n",
      "1        0\n",
      "2        1\n",
      "3        1\n",
      "4        0\n",
      "..     ...\n",
      "995      1\n",
      "996      1\n",
      "997      1\n",
      "998      0\n",
      "999      1\n",
      "\n",
      "[1000 rows x 1 columns]\n"
     ]
    },
    {
     "data": {
      "image/png": "[encoded data removed]",
      "text/plain": [
       "<Figure size 640x480 with 1 Axes>"
      ]
     },
     "metadata": {},
     "output_type": "display_data"
    },
    {
     "data": {
      "image/png": "[encoded data removed]",
      "text/plain": [
       "<Figure size 640x480 with 1 Axes>"
      ]
     },
     "metadata": {},
     "output_type": "display_data"
    }
   ],
   "source": [
    "print(X.columns)\n",
    "y.value_counts().plot.bar()\n",
    "print(y)\n",
    "plt.title(\"Y distribution\")\n",
    "plt.show()\n",
    "\n",
    "\n",
    "\n",
    "\n",
    "\n",
    "# Create an array to represent the index (0 and 1)\n",
    "index = np.array([0, 1])\n",
    "\n",
    "# Create a list of the numbers\n",
    "values = [X.shape[0]- X[\"Age_group_1\"].sum(),X[\"Age_group_1\"].sum()]\n",
    "\n",
    "# Create the bar plot\n",
    "plt.bar(index, values)\n",
    "\n",
    "# Set the x-tick labels for the index\n",
    "plt.xticks(index, ['0', '1'])\n",
    "\n",
    "plt.title(\"Age groups distribution\")\n",
    "plt.show()\n"
   ]
  },
  {
   "cell_type": "markdown",
   "metadata": {},
   "source": [
    "# Prediction "
   ]
  },
  {
   "cell_type": "code",
   "execution_count": 10,
   "metadata": {},
   "outputs": [
    {
     "name": "stdout",
     "output_type": "stream",
     "text": [
      "Best Model Hyperparameters: {'n_estimators': 10, 'max_depth': 10, 'min_samples_leaf': 8}\n",
      "Validation Accuracy: 0.72\n",
      "Best Model Hyperparameters: {'n_neighbors': 20}\n",
      "Validation Accuracy: 0.725\n",
      "Best Model Hyperparameters: {'C': 1, 'penalty': 'l2'}\n",
      "Validation Accuracy: 0.765\n"
     ]
    }
   ],
   "source": [
    "#########MODEL \n",
    "\n",
    "\n",
    "###Preprocessing part###\n",
    "\n",
    "####SCALE\n",
    "X_train_with_A, X_val_with_A, X_test_with_A, X_train_without_A, X_val_without_A, X_test_without_A=scale_dataframes(\n",
    "    [X_train_with_A, X_val_with_A, X_test_with_A, X_train_without_A, X_val_without_A, X_test_without_A])  ###scale all dfs ##Take care scale keeps 0,1 true\n",
    "\n",
    "\n",
    "############# find best model\n",
    "\n",
    "param_grid_rf = {\n",
    "    'n_estimators': [10,50, 100],\n",
    "    'max_depth': [5,10],\n",
    "    'min_samples_leaf': [ 8,16]\n",
    "}\n",
    "\n",
    "\n",
    "#param_grid_svc = {\n",
    "    #'C': [0.1, 1, 10],\n",
    "    #'kernel': ['linear']\n",
    "#}\n",
    "\n",
    "param_grid_knn = {\n",
    "    'n_neighbors': [3,5, 10, 20]\n",
    "}\n",
    "\n",
    "\n",
    "param_grid_lr = {\n",
    "    'C': [ 0.001,0.01,0.1,1],\n",
    "    'penalty': ['l2',\n",
    "    ]\n",
    "}\n",
    "\n",
    "\n",
    "\n",
    "\n",
    "model_rf=RandomForestClassifier()\n",
    "\n",
    "model_knn = KNeighborsClassifier()\n",
    "model_lr = LogisticRegression()  # The solver 'liblinear' is suitable for small datasets.\n",
    "\n",
    "#best_rf = find_best_model(model_rf, param_grid_rf, X_train_without_A, y_train.values.ravel(), X_val_without_A, y_val.values.ravel())\n",
    "#best_knn = find_best_model(model_knn, param_grid_knn, X_train_without_A, y_train.values.ravel(), X_val_without_A, y_val.values.ravel())\n",
    "#best_lr = find_best_model(model_lr, param_grid_lr, X_train_without_A, y_train.values.ravel(), X_val_without_A, y_val.values.ravel())\n",
    "\n",
    "\n",
    "##SAME IF CONSIDERING SENSITIVE ATTRIBUTE\n",
    "\n",
    "best_rf_A = find_best_model(model_rf, param_grid_rf, X_train_with_A, y_train.values.ravel(),  X_val_with_A, y_val.values.ravel())\n",
    "best_knn_A = find_best_model(model_knn, param_grid_knn, X_train_with_A, y_train.values.ravel(), X_val_with_A, y_val.values.ravel() )\n",
    "best_lr_A = find_best_model(model_lr, param_grid_lr, X_train_with_A, y_train.values.ravel(),  X_val_with_A, y_val.values.ravel())\n",
    "\n",
    "\n",
    "\n",
    "\n",
    "\n",
    "\n",
    "\n",
    "\n",
    "\n",
    "\n",
    "\n",
    "\n",
    "\n"
   ]
  },
  {
   "cell_type": "markdown",
   "metadata": {},
   "source": [
    "# Save the models for future use "
   ]
  },
  {
   "cell_type": "code",
   "execution_count": 22,
   "metadata": {},
   "outputs": [
    {
     "name": "stdout",
     "output_type": "stream",
     "text": [
      "Best models saved in the 'models' directory.\n"
     ]
    }
   ],
   "source": [
    "import joblib\n",
    "import os\n",
    "\n",
    "\n",
    "dataset_name=\"German_credit\"\n",
    "# Define the directory path for saving models\n",
    "models_directory = os.path.join( '..', 'ML_models', dataset_name)  # '..' moves one directory up\n",
    "\n",
    "# Save the best models to separate files\n",
    "joblib.dump(best_rf_A, os.path.join(models_directory, 'best_random_forest_A_model.pkl'))\n",
    "joblib.dump(best_knn_A, os.path.join(models_directory, 'best_knn_A_model.pkl'))\n",
    "joblib.dump(best_lr_A, os.path.join(models_directory, 'best_logistic_regression_A_model.pkl'))\n",
    "\n",
    "X_train_val_with_A, y_train_val = merge_two_sets(X_train_with_A, X_val_with_A, y_train, y_val)\n",
    "\n",
    "\n",
    "\n",
    "# Create the 'models' directory if it doesn't exist\n",
    "if not os.path.exists(models_directory):\n",
    "    os.makedirs(models_directory)\n",
    "\n",
    "best_rf_A.fit(X_train_val_with_A, y_train_val.ravel())\n",
    "best_lr_A.fit(X_train_val_with_A, y_train_val.ravel())\n",
    "best_knn_A.fit(X_train_val_with_A, y_train_val.ravel())\n",
    "\n",
    "# Save the best models to separate files\n",
    "joblib.dump(best_rf_A, os.path.join(models_directory, 'best_random_forest_big_A_model.pkl'))\n",
    "joblib.dump(best_knn_A, os.path.join(models_directory, 'best_knn_big_A_model.pkl'))\n",
    "joblib.dump(best_lr_A, os.path.join(models_directory, 'best_logistic_regression_big_A_model.pkl'))\n",
    "\n",
    "print(\"Best models saved in the 'models' directory.\")\n"
   ]
  },
  {
   "cell_type": "markdown",
   "metadata": {},
   "source": [
    "# Rough work"
   ]
  },
  {
   "cell_type": "code",
   "execution_count": null,
   "metadata": {},
   "outputs": [],
   "source": []
  },
  {
   "cell_type": "code",
   "execution_count": null,
   "metadata": {},
   "outputs": [],
   "source": []
  },
  {
   "cell_type": "code",
   "execution_count": null,
   "metadata": {},
   "outputs": [],
   "source": []
  },
  {
   "cell_type": "code",
   "execution_count": null,
   "metadata": {},
   "outputs": [],
   "source": []
  },
  {
   "cell_type": "code",
   "execution_count": 20,
   "metadata": {},
   "outputs": [
    {
     "name": "stdout",
     "output_type": "stream",
     "text": [
      "[[-1.68586256 -1.45612918 -0.60820123  0.09432479  0.14024207 -0.10726796\n",
      "  -0.20188897  0.46366188  0.79589834  1.5055637  -0.465892    0.30837014\n",
      "   0.61257636  0.75163638  1.42285991  0.6613303   0.25381075  0.51833014\n",
      "  -0.1578126   0.26168126  0.00419811  0.65810962  0.32285919  0.06226066\n",
      "   0.09380353  1.48076934  0.42962148 -0.50205421 -0.17788917  0.35003336\n",
      "  -0.0505524   0.27433192 -0.22424602  0.59856563 -0.04010641  0.13705173\n",
      "  -0.11455937  0.05983711  0.67266933  0.60516094  0.32040682  0.07831669\n",
      "  -0.09087449  0.02299325  0.17105011  1.0170667 ]]\n"
     ]
    }
   ],
   "source": [
    "print(best_lr.coef_)"
   ]
  },
  {
   "cell_type": "code",
   "execution_count": 21,
   "metadata": {},
   "outputs": [
    {
     "name": "stdout",
     "output_type": "stream",
     "text": [
      "------    RESULTS FOR X WITHOUT A   --------\n",
      "\n",
      " ------ metrics obtained using best random forest  -------\n",
      " train gender eq op diff : 0.0025550942190992743\n",
      "train age eq op diff : 0.03151749264738157\n",
      "val gender eq op diff : 0.04347826086956519\n",
      "val age eq op diff : 0.032258064516129004\n",
      "train gender eq odds diff : 0.14007555943039807\n",
      "train age eq odds diff : 0.20054472477064222\n",
      "val gender eq odds diff : 0.04347826086956519\n",
      "val age eq odds diff : 0.032258064516129004\n",
      "\n",
      " ------ metrics obtained using best logistic regression  -------\n",
      "\n",
      " train gender eq op diff : 0.0022090918769296364\n",
      "train age eq op diff : 0.022343180720776123\n",
      "val gender eq op diff : 0.0\n",
      "val age eq op diff : 0.0\n",
      "train gender eq odds diff : 0.022231909328683463\n",
      "train age eq odds diff : 0.1522362385321101\n",
      "val gender eq odds diff : 0.0\n",
      "val age eq odds diff : 0.0\n"
     ]
    }
   ],
   "source": [
    "##Load models\n",
    "\n",
    "import joblib\n",
    "\n",
    "# Load the models from the files\n",
    "best_rf = joblib.load('../ML_models/best_random_forest_model.pkl')\n",
    "# best_svc = joblib.load('../ML_models/best_svc_model.pkl')  # Uncomment if using SVC\n",
    "best_knn = joblib.load('../ML_models/best_knn_model.pkl')\n",
    "best_lr = joblib.load('../ML_models/best_logistic_regression_model.pkl')\n",
    "\n",
    "best_rf_A = joblib.load('../ML_models/best_random_forest_A_model.pkl')\n",
    "# best_svc = joblib.load('../ML_models/best_svc_A_model.pkl')  # Uncomment if using SVC\n",
    "best_knn_A = joblib.load('../ML_models/best_knn_A_model.pkl')\n",
    "best_lr_A = joblib.load('../ML_models/best_logistic_regression_A_model.pkl')\n",
    "\n",
    "# Now you have the loaded models in the respective variables\n",
    "\n",
    "\n",
    "\n",
    "from fairlearn.metrics import equalized_odds_difference as eq_odds_dif\n",
    "\n",
    "\n",
    "print(\"------    RESULTS FOR X WITHOUT A   --------\")\n",
    "\n",
    "\n",
    "print()\n",
    "print(\" ------ metrics obtained using best random forest  -------\")\n",
    "\n",
    "print(f\" train gender eq op diff : {eq_op_dif(y_train,best_rf.predict(X_train_without_A), sensitive_attribute=gender_train)}\")\n",
    "print(f\"train age eq op diff : {eq_op_dif(y_train,best_rf.predict(X_train_without_A), sensitive_attribute=age_train)}\")\n",
    "\n",
    "print(f\"val gender eq op diff : {eq_op_dif(y_val,best_rf.predict(X_val_without_A), sensitive_attribute=gender_val)}\")\n",
    "print(f\"val age eq op diff : {eq_op_dif(y_val,best_rf.predict(X_val_without_A), sensitive_attribute=age_val)}\")\n",
    "\n",
    "print(f\"train gender eq odds diff : {eq_odds_dif(y_train,best_rf.predict(X_train_without_A), sensitive_features=gender_train)}\")\n",
    "print(f\"train age eq odds diff : {eq_odds_dif(y_train,best_rf.predict(X_train_without_A), sensitive_features=age_train)}\")\n",
    "\n",
    "print(f\"val gender eq odds diff : {eq_odds_dif(y_val,best_rf.predict(X_val_without_A), sensitive_features=gender_val)}\")\n",
    "print(f\"val age eq odds diff : {eq_odds_dif(y_val,best_rf.predict(X_val_without_A), sensitive_features=age_val)}\")\n",
    "\n",
    "print()\n",
    "\n",
    "print(\" ------ metrics obtained using best logistic regression  -------\")\n",
    "\n",
    "print()\n",
    "\n",
    "print(f\" train gender eq op diff : {eq_op_dif(y_train,best_lr.predict(X_train_without_A), sensitive_attribute=gender_train)}\")\n",
    "print(f\"train age eq op diff : {eq_op_dif(y_train,best_lr.predict(X_train_without_A), sensitive_attribute=age_train)}\")\n",
    "\n",
    "print(f\"val gender eq op diff : {eq_op_dif(y_val,best_lr.predict(X_val_without_A), sensitive_attribute=gender_val)}\")\n",
    "print(f\"val age eq op diff : {eq_op_dif(y_val,best_lr.predict(X_val_without_A), sensitive_attribute=age_val)}\")\n",
    "\n",
    "print(f\"train gender eq odds diff : {eq_odds_dif(y_train,best_lr.predict(X_train_without_A), sensitive_features=gender_train)}\")\n",
    "print(f\"train age eq odds diff : {eq_odds_dif(y_train,best_lr.predict(X_train_without_A), sensitive_features=age_train)}\")\n",
    "\n",
    "print(f\"val gender eq odds diff : {eq_odds_dif(y_val,best_lr.predict(X_val_without_A), sensitive_features=gender_val)}\")\n",
    "print(f\"val age eq odds diff : {eq_odds_dif(y_val,best_lr.predict(X_val_without_A), sensitive_features=age_val)}\")\n"
   ]
  },
  {
   "cell_type": "markdown",
   "metadata": {},
   "source": [
    "# Rough work"
   ]
  }
 ],
 "metadata": {
  "kernelspec": {
   "display_name": "Python 3",
   "language": "python",
   "name": "python3"
  },
  "language_info": {
   "codemirror_mode": {
    "name": "ipython",
    "version": 3
   },
   "file_extension": ".py",
   "mimetype": "text/x-python",
   "name": "python",
   "nbconvert_exporter": "python",
   "pygments_lexer": "ipython3",
   "version": "3.11.3"
  }
 },
 "nbformat": 4,
 "nbformat_minor": 2
}
